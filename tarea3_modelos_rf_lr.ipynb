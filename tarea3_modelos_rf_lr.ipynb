{
 "cells": [
  {
   "cell_type": "code",
   "execution_count": 1,
   "id": "3a7769f9",
   "metadata": {},
   "outputs": [
    {
     "name": "stdout",
     "output_type": "stream",
     "text": [
      "Collecting kagglehub\n",
      "  Downloading kagglehub-0.2.9-py3-none-any.whl.metadata (21 kB)\n",
      "Requirement already satisfied: packaging in /usr/lib/python3.7/site-packages (from kagglehub) (24.0)\n",
      "Collecting requests (from kagglehub)\n",
      "  Downloading requests-2.31.0-py3-none-any.whl.metadata (4.6 kB)\n",
      "Collecting tqdm (from kagglehub)\n",
      "  Downloading tqdm-4.67.1-py3-none-any.whl.metadata (57 kB)\n",
      "\u001b[2K     \u001b[90m━━━━━━━━━━━━━━━━━━━━━━━━━━━━━━━━━━━━━━━\u001b[0m \u001b[32m57.7/57.7 kB\u001b[0m \u001b[31m748.0 kB/s\u001b[0m eta \u001b[36m0:00:00\u001b[0m \u001b[36m0:00:01\u001b[0m\n",
      "\u001b[?25hCollecting charset-normalizer<4,>=2 (from requests->kagglehub)\n",
      "  Downloading charset_normalizer-3.4.2-py3-none-any.whl.metadata (35 kB)\n",
      "Requirement already satisfied: idna<4,>=2.5 in /usr/lib/python3.7/site-packages (from requests->kagglehub) (3.10)\n",
      "Collecting urllib3<3,>=1.21.1 (from requests->kagglehub)\n",
      "  Downloading urllib3-2.0.7-py3-none-any.whl.metadata (6.6 kB)\n",
      "Collecting certifi>=2017.4.17 (from requests->kagglehub)\n",
      "  Downloading certifi-2025.7.14-py3-none-any.whl.metadata (2.4 kB)\n",
      "Downloading kagglehub-0.2.9-py3-none-any.whl (39 kB)\n",
      "Downloading requests-2.31.0-py3-none-any.whl (62 kB)\n",
      "\u001b[2K   \u001b[90m━━━━━━━━━━━━━━━━━━━━━━━━━━━━━━━━━━━━━━━━\u001b[0m \u001b[32m62.6/62.6 kB\u001b[0m \u001b[31m2.0 MB/s\u001b[0m eta \u001b[36m0:00:00\u001b[0m\n",
      "\u001b[?25hDownloading tqdm-4.67.1-py3-none-any.whl (78 kB)\n",
      "\u001b[2K   \u001b[90m━━━━━━━━━━━━━━━━━━━━━━━━━━━━━━━━━━━━━━━━\u001b[0m \u001b[32m78.5/78.5 kB\u001b[0m \u001b[31m2.8 MB/s\u001b[0m eta \u001b[36m0:00:00\u001b[0m\n",
      "\u001b[?25hDownloading certifi-2025.7.14-py3-none-any.whl (162 kB)\n",
      "\u001b[2K   \u001b[90m━━━━━━━━━━━━━━━━━━━━━━━━━━━━━━━━━━━━━━━━\u001b[0m \u001b[32m162.7/162.7 kB\u001b[0m \u001b[31m2.0 MB/s\u001b[0m eta \u001b[36m0:00:00\u001b[0mta \u001b[36m0:00:01\u001b[0m\n",
      "\u001b[?25hDownloading charset_normalizer-3.4.2-py3-none-any.whl (52 kB)\n",
      "\u001b[2K   \u001b[90m━━━━━━━━━━━━━━━━━━━━━━━━━━━━━━━━━━━━━━━━\u001b[0m \u001b[32m52.6/52.6 kB\u001b[0m \u001b[31m4.4 MB/s\u001b[0m eta \u001b[36m0:00:00\u001b[0m\n",
      "\u001b[?25hDownloading urllib3-2.0.7-py3-none-any.whl (124 kB)\n",
      "\u001b[2K   \u001b[90m━━━━━━━━━━━━━━━━━━━━━━━━━━━━━━━━━━━━━━━━\u001b[0m \u001b[32m124.2/124.2 kB\u001b[0m \u001b[31m7.7 MB/s\u001b[0m eta \u001b[36m0:00:00\u001b[0m\n",
      "\u001b[?25hInstalling collected packages: urllib3, tqdm, charset-normalizer, certifi, requests, kagglehub\n",
      "Successfully installed certifi-2025.7.14 charset-normalizer-3.4.2 kagglehub-0.2.9 requests-2.31.0 tqdm-4.67.1 urllib3-2.0.7\n",
      "\u001b[33mWARNING: Running pip as the 'root' user can result in broken permissions and conflicting behaviour with the system package manager. It is recommended to use a virtual environment instead: https://pip.pypa.io/warnings/venv\u001b[0m\u001b[33m\n",
      "\u001b[0mNote: you may need to restart the kernel to use updated packages.\n"
     ]
    }
   ],
   "source": [
    "%pip install kagglehub"
   ]
  },
  {
   "cell_type": "code",
   "execution_count": 3,
   "id": "f88ab734",
   "metadata": {},
   "outputs": [],
   "source": [
    "from pyspark.sql import SparkSession\n",
    "from pyspark.sql.types import *\n",
    "import kagglehub\n",
    "import pandas as pd\n",
    "import numpy as np\n",
    "import matplotlib"
   ]
  },
  {
   "cell_type": "code",
   "execution_count": 5,
   "id": "140c4e9e",
   "metadata": {},
   "outputs": [],
   "source": [
    "\n",
    "spark = SparkSession.builder.appName(\"Tarea-3-Big Data\").getOrCreate()\n",
    "spark.sparkContext.setLogLevel(\"WARN\")"
   ]
  },
  {
   "cell_type": "markdown",
   "id": "c3c1e5a5",
   "metadata": {},
   "source": [
    "## Dataset\n",
    "El dataset que estamos usando es de kaggle, lo importamos usando kagglehub"
   ]
  },
  {
   "cell_type": "code",
   "execution_count": 6,
   "id": "7dbfe6c5",
   "metadata": {},
   "outputs": [
    {
     "name": "stdout",
     "output_type": "stream",
     "text": [
      "Warning: Looks like you're using an outdated `kagglehub` version, please consider updating (latest version: 0.3.12)\n",
      "Downloading from https://www.kaggle.com/api/v1/datasets/download/mathchi/diabetes-data-set?dataset_version_number=1...\n"
     ]
    },
    {
     "name": "stderr",
     "output_type": "stream",
     "text": [
      "100%|████████████████████████████████████████████████████████████████████████████████████████████████████████████████████████| 8.91k/8.91k [00:00<00:00, 9.68MB/s]"
     ]
    },
    {
     "name": "stdout",
     "output_type": "stream",
     "text": [
      "Extracting model files...\n",
      "Path to dataset files: /root/.cache/kagglehub/datasets/mathchi/diabetes-data-set/versions/1\n"
     ]
    },
    {
     "name": "stderr",
     "output_type": "stream",
     "text": [
      "\n"
     ]
    }
   ],
   "source": [
    "# Download latest version\n",
    "path = kagglehub.dataset_download(\"mathchi/diabetes-data-set\")\n",
    "\n",
    "print(\"Path to dataset files:\", path)"
   ]
  },
  {
   "cell_type": "markdown",
   "id": "84f79e3a",
   "metadata": {},
   "source": [
    "## Aclaración sobre uso de pandas en las próximas celdas\n",
    "Luego de haberlo descargado, usamos pandas para revisar que el archivo se descargó correctamente y, posteriormente, para mostrar el método `.head()` del dataframe de Pandas y ver sus valores. A partir de ahí, después de mostrar el método `.info()` para saber los tipos que necesita el Schema en Spark, ya se trabaja con dataframes de Spark y la sesión de spark."
   ]
  },
  {
   "cell_type": "code",
   "execution_count": 7,
   "id": "5880ca33",
   "metadata": {},
   "outputs": [
    {
     "data": {
      "text/html": [
       "<div>\n",
       "<style scoped>\n",
       "    .dataframe tbody tr th:only-of-type {\n",
       "        vertical-align: middle;\n",
       "    }\n",
       "\n",
       "    .dataframe tbody tr th {\n",
       "        vertical-align: top;\n",
       "    }\n",
       "\n",
       "    .dataframe thead th {\n",
       "        text-align: right;\n",
       "    }\n",
       "</style>\n",
       "<table border=\"1\" class=\"dataframe\">\n",
       "  <thead>\n",
       "    <tr style=\"text-align: right;\">\n",
       "      <th></th>\n",
       "      <th>Pregnancies</th>\n",
       "      <th>Glucose</th>\n",
       "      <th>BloodPressure</th>\n",
       "      <th>SkinThickness</th>\n",
       "      <th>Insulin</th>\n",
       "      <th>BMI</th>\n",
       "      <th>DiabetesPedigreeFunction</th>\n",
       "      <th>Age</th>\n",
       "      <th>Outcome</th>\n",
       "    </tr>\n",
       "  </thead>\n",
       "  <tbody>\n",
       "    <tr>\n",
       "      <th>0</th>\n",
       "      <td>6</td>\n",
       "      <td>148</td>\n",
       "      <td>72</td>\n",
       "      <td>35</td>\n",
       "      <td>0</td>\n",
       "      <td>33.6</td>\n",
       "      <td>0.627</td>\n",
       "      <td>50</td>\n",
       "      <td>1</td>\n",
       "    </tr>\n",
       "    <tr>\n",
       "      <th>1</th>\n",
       "      <td>1</td>\n",
       "      <td>85</td>\n",
       "      <td>66</td>\n",
       "      <td>29</td>\n",
       "      <td>0</td>\n",
       "      <td>26.6</td>\n",
       "      <td>0.351</td>\n",
       "      <td>31</td>\n",
       "      <td>0</td>\n",
       "    </tr>\n",
       "    <tr>\n",
       "      <th>2</th>\n",
       "      <td>8</td>\n",
       "      <td>183</td>\n",
       "      <td>64</td>\n",
       "      <td>0</td>\n",
       "      <td>0</td>\n",
       "      <td>23.3</td>\n",
       "      <td>0.672</td>\n",
       "      <td>32</td>\n",
       "      <td>1</td>\n",
       "    </tr>\n",
       "    <tr>\n",
       "      <th>3</th>\n",
       "      <td>1</td>\n",
       "      <td>89</td>\n",
       "      <td>66</td>\n",
       "      <td>23</td>\n",
       "      <td>94</td>\n",
       "      <td>28.1</td>\n",
       "      <td>0.167</td>\n",
       "      <td>21</td>\n",
       "      <td>0</td>\n",
       "    </tr>\n",
       "    <tr>\n",
       "      <th>4</th>\n",
       "      <td>0</td>\n",
       "      <td>137</td>\n",
       "      <td>40</td>\n",
       "      <td>35</td>\n",
       "      <td>168</td>\n",
       "      <td>43.1</td>\n",
       "      <td>2.288</td>\n",
       "      <td>33</td>\n",
       "      <td>1</td>\n",
       "    </tr>\n",
       "  </tbody>\n",
       "</table>\n",
       "</div>"
      ],
      "text/plain": [
       "   Pregnancies  Glucose  BloodPressure  SkinThickness  Insulin   BMI  \\\n",
       "0            6      148             72             35        0  33.6   \n",
       "1            1       85             66             29        0  26.6   \n",
       "2            8      183             64              0        0  23.3   \n",
       "3            1       89             66             23       94  28.1   \n",
       "4            0      137             40             35      168  43.1   \n",
       "\n",
       "   DiabetesPedigreeFunction  Age  Outcome  \n",
       "0                     0.627   50        1  \n",
       "1                     0.351   31        0  \n",
       "2                     0.672   32        1  \n",
       "3                     0.167   21        0  \n",
       "4                     2.288   33        1  "
      ]
     },
     "execution_count": 7,
     "metadata": {},
     "output_type": "execute_result"
    }
   ],
   "source": [
    "diabetes_df = pd.read_csv(path + \"/diabetes.csv\")\n",
    "diabetes_df.head()"
   ]
  },
  {
   "cell_type": "code",
   "execution_count": 8,
   "id": "789ee4d8",
   "metadata": {},
   "outputs": [
    {
     "name": "stdout",
     "output_type": "stream",
     "text": [
      "<class 'pandas.core.frame.DataFrame'>\n",
      "RangeIndex: 768 entries, 0 to 767\n",
      "Data columns (total 9 columns):\n",
      " #   Column                    Non-Null Count  Dtype  \n",
      "---  ------                    --------------  -----  \n",
      " 0   Pregnancies               768 non-null    int64  \n",
      " 1   Glucose                   768 non-null    int64  \n",
      " 2   BloodPressure             768 non-null    int64  \n",
      " 3   SkinThickness             768 non-null    int64  \n",
      " 4   Insulin                   768 non-null    int64  \n",
      " 5   BMI                       768 non-null    float64\n",
      " 6   DiabetesPedigreeFunction  768 non-null    float64\n",
      " 7   Age                       768 non-null    int64  \n",
      " 8   Outcome                   768 non-null    int64  \n",
      "dtypes: float64(2), int64(7)\n",
      "memory usage: 54.1 KB\n"
     ]
    }
   ],
   "source": [
    "# Hay que definirle el Schema\n",
    "diabetes_df.info()"
   ]
  },
  {
   "cell_type": "markdown",
   "id": "7693f3a5",
   "metadata": {},
   "source": [
    "# Cargado y Limpieza de archivo de entrada CSV"
   ]
  },
  {
   "cell_type": "code",
   "execution_count": 9,
   "id": "d2f5e768",
   "metadata": {},
   "outputs": [],
   "source": [
    "diabetes_schema = StructType([StructField('Pregnancies', IntegerType()),\n",
    "                           StructField('Glucose', IntegerType()),\n",
    "                           StructField('BloodPressure', IntegerType()),\n",
    "                           StructField('SkinThickness', IntegerType()),\n",
    "                           StructField('Insulin', IntegerType()),\n",
    "                           StructField('BMI', FloatType()),\n",
    "                           StructField('DiabetesPedigreeFunction', FloatType()),\n",
    "                           StructField('Age', IntegerType()),\n",
    "                           StructField('Outcome', IntegerType())])"
   ]
  },
  {
   "cell_type": "code",
   "execution_count": 10,
   "id": "7263b8ea",
   "metadata": {},
   "outputs": [
    {
     "name": "stdout",
     "output_type": "stream",
     "text": [
      "+-----------+-------+-------------+-------------+-------+----+------------------------+---+-------+\n",
      "|Pregnancies|Glucose|BloodPressure|SkinThickness|Insulin| BMI|DiabetesPedigreeFunction|Age|Outcome|\n",
      "+-----------+-------+-------------+-------------+-------+----+------------------------+---+-------+\n",
      "|          6|    148|           72|           35|      0|33.6|                   0.627| 50|      1|\n",
      "|          1|     85|           66|           29|      0|26.6|                   0.351| 31|      0|\n",
      "|          8|    183|           64|            0|      0|23.3|                   0.672| 32|      1|\n",
      "|          1|     89|           66|           23|     94|28.1|                   0.167| 21|      0|\n",
      "|          0|    137|           40|           35|    168|43.1|                   2.288| 33|      1|\n",
      "|          5|    116|           74|            0|      0|25.6|                   0.201| 30|      0|\n",
      "|          3|     78|           50|           32|     88|31.0|                   0.248| 26|      1|\n",
      "|         10|    115|            0|            0|      0|35.3|                   0.134| 29|      0|\n",
      "|          2|    197|           70|           45|    543|30.5|                   0.158| 53|      1|\n",
      "|          8|    125|           96|            0|      0| 0.0|                   0.232| 54|      1|\n",
      "|          4|    110|           92|            0|      0|37.6|                   0.191| 30|      0|\n",
      "|         10|    168|           74|            0|      0|38.0|                   0.537| 34|      1|\n",
      "|         10|    139|           80|            0|      0|27.1|                   1.441| 57|      0|\n",
      "|          1|    189|           60|           23|    846|30.1|                   0.398| 59|      1|\n",
      "|          5|    166|           72|           19|    175|25.8|                   0.587| 51|      1|\n",
      "|          7|    100|            0|            0|      0|30.0|                   0.484| 32|      1|\n",
      "|          0|    118|           84|           47|    230|45.8|                   0.551| 31|      1|\n",
      "|          7|    107|           74|            0|      0|29.6|                   0.254| 31|      1|\n",
      "|          1|    103|           30|           38|     83|43.3|                   0.183| 33|      0|\n",
      "|          1|    115|           70|           30|     96|34.6|                   0.529| 32|      1|\n",
      "+-----------+-------+-------------+-------------+-------+----+------------------------+---+-------+\n",
      "only showing top 20 rows\n",
      "\n"
     ]
    }
   ],
   "source": [
    "diabetes_df = spark.read.csv(path + \"/diabetes.csv\", schema=diabetes_schema, header=True)\n",
    "diabetes_df.show()"
   ]
  },
  {
   "cell_type": "markdown",
   "id": "094d89cc",
   "metadata": {},
   "source": [
    "# Gráficos y estadísticas descriptivas"
   ]
  },
  {
   "cell_type": "code",
   "execution_count": 11,
   "id": "7aa05647",
   "metadata": {},
   "outputs": [
    {
     "name": "stderr",
     "output_type": "stream",
     "text": [
      "25/07/23 20:43:46 WARN package: Truncated the string representation of a plan since it was too large. This behavior can be adjusted by setting 'spark.sql.debug.maxToStringFields'.\n"
     ]
    },
    {
     "name": "stdout",
     "output_type": "stream",
     "text": [
      "+-------+------------------+-----------------+------------------+------------------+------------------+-----------------+------------------------+------------------+------------------+\n",
      "|summary|       Pregnancies|          Glucose|     BloodPressure|     SkinThickness|           Insulin|              BMI|DiabetesPedigreeFunction|               Age|           Outcome|\n",
      "+-------+------------------+-----------------+------------------+------------------+------------------+-----------------+------------------------+------------------+------------------+\n",
      "|  count|               768|              768|               768|               768|               768|              768|                     768|               768|               768|\n",
      "|   mean|3.8450520833333335|     120.89453125|       69.10546875|20.536458333333332| 79.79947916666667|31.99257813890775|      0.4718763029280429|33.240885416666664|0.3489583333333333|\n",
      "| stddev|  3.36957806269887|31.97261819513622|19.355807170644777|15.952217567727642|115.24400235133803|7.884160293010772|      0.3313285967924436|11.760231540678689| 0.476951377242799|\n",
      "|    min|                 0|                0|                 0|                 0|                 0|              0.0|                   0.078|                21|                 0|\n",
      "|    25%|                 1|               99|                62|                 0|                 0|             27.3|                   0.243|                24|                 0|\n",
      "|    50%|                 3|              117|                72|                23|                29|             32.0|                   0.371|                29|                 0|\n",
      "|    75%|                 6|              140|                80|                32|               127|             36.6|                   0.626|                41|                 1|\n",
      "|    max|                17|              199|               122|                99|               846|             67.1|                    2.42|                81|                 1|\n",
      "+-------+------------------+-----------------+------------------+------------------+------------------+-----------------+------------------------+------------------+------------------+\n",
      "\n"
     ]
    }
   ],
   "source": [
    "diabetes_df.summary().show()"
   ]
  },
  {
   "cell_type": "markdown",
   "id": "1bcfaaa7",
   "metadata": {},
   "source": [
    "Con el cuadro anterior podemos ver valores intercuartílicos, pero para verlo mejor, se graficarán boxplots.\n",
    "Algo que desde ya llama la atención es que hay valores atípicos en medidas fisiológicas que no tiene sentido, por ejemplo, que la glucosa, presión arterial, insulina y el IMC tengan valores en 0, lo que puede indicar es que para personas que no se tomó esa medida, se colocó un 0."
   ]
  },
  {
   "cell_type": "markdown",
   "id": "6e736a51",
   "metadata": {},
   "source": [
    "## Boxplots y otros gráficos"
   ]
  },
  {
   "cell_type": "code",
   "execution_count": 12,
   "id": "96666b56",
   "metadata": {},
   "outputs": [
    {
     "data": {
      "image/png": "[encoded data removed]",
      "text/plain": [
       "<Figure size 640x480 with 1 Axes>"
      ]
     },
     "metadata": {},
     "output_type": "display_data"
    },
    {
     "data": {
      "image/png": "[encoded data removed]",
      "text/plain": [
       "<Figure size 640x480 with 1 Axes>"
      ]
     },
     "metadata": {},
     "output_type": "display_data"
    },
    {
     "data": {
      "image/png": "[encoded data removed]",
      "text/plain": [
       "<Figure size 640x480 with 1 Axes>"
      ]
     },
     "metadata": {},
     "output_type": "display_data"
    },
    {
     "data": {
      "image/png": "[encoded data removed]",
      "text/plain": [
       "<Figure size 640x480 with 1 Axes>"
      ]
     },
     "metadata": {},
     "output_type": "display_data"
    },
    {
     "data": {
      "image/png": "[encoded data removed]",
      "text/plain": [
       "<Figure size 640x480 with 1 Axes>"
      ]
     },
     "metadata": {},
     "output_type": "display_data"
    },
    {
     "data": {
      "image/png": "[encoded data removed]",
      "text/plain": [
       "<Figure size 640x480 with 1 Axes>"
      ]
     },
     "metadata": {},
     "output_type": "display_data"
    },
    {
     "data": {
      "image/png": "[encoded data removed]",
      "text/plain": [
       "<Figure size 640x480 with 1 Axes>"
      ]
     },
     "metadata": {},
     "output_type": "display_data"
    },
    {
     "data": {
      "image/png": "[encoded data removed]",
      "text/plain": [
       "<Figure size 640x480 with 1 Axes>"
      ]
     },
     "metadata": {},
     "output_type": "display_data"
    },
    {
     "data": {
      "image/png": "[encoded data removed]",
      "text/plain": [
       "<Figure size 640x480 with 1 Axes>"
      ]
     },
     "metadata": {},
     "output_type": "display_data"
    }
   ],
   "source": [
    "import matplotlib.pyplot as plt\n",
    "\n",
    "cols = [\"Pregnancies\", \"Glucose\", \"BloodPressure\", \"SkinThickness\",\n",
    "        \"Insulin\", \"BMI\", \"DiabetesPedigreeFunction\", \"Age\", \"Outcome\"]\n",
    "datos = [[] for _ in cols]\n",
    "\n",
    "for fila in diabetes_df.collect():\n",
    "    for i, col in enumerate(cols):\n",
    "        datos[i].append(fila[col])\n",
    "\n",
    "for feature_data, feature_name in zip(datos, cols):\n",
    "    plt.figure()\n",
    "    plt.boxplot(feature_data)\n",
    "    plt.title(feature_name)\n",
    "    plt.grid(True)\n",
    "    plt.tight_layout()\n",
    "    plt.show()  # Show each plot separately\n"
   ]
  },
  {
   "cell_type": "markdown",
   "id": "b496ffff",
   "metadata": {},
   "source": [
    "Se ve que hay variables en las que los _outliers_ pueden aportar contexto al no estar muy lejos de los IQRs, pero otras en las que definitivamente hay valores muy extremos."
   ]
  },
  {
   "cell_type": "code",
   "execution_count": 13,
   "id": "d6aeac55",
   "metadata": {},
   "outputs": [],
   "source": [
    "columns_to_clean = [\"Glucose\", \"BMI\", \"SkinThickness\", \"BloodPressure\"]\n",
    "\n",
    "iqr_bounds = {}\n",
    "for col in columns_to_clean:\n",
    "    q1, q3 = diabetes_df.approxQuantile(col, [0.25, 0.75], 0.01)\n",
    "    iqr = q3 - q1\n",
    "    lower_bound = q1 - 1.5 * iqr\n",
    "    upper_bound = q3 + 1.5 * iqr\n",
    "    iqr_bounds[col] = (lower_bound, upper_bound)\n",
    "\n",
    "\n",
    "from pyspark.sql.functions import col\n",
    "\n",
    "\n",
    "filtered_df = diabetes_df\n",
    "\n",
    "for col_name, (low, high) in iqr_bounds.items():\n",
    "    filtered_df = filtered_df.filter((col(col_name) >= low) & (col(col_name) <= high))"
   ]
  },
  {
   "cell_type": "markdown",
   "id": "a9463a4e",
   "metadata": {},
   "source": [
    "## Vectorización y matriz de correlación"
   ]
  },
  {
   "cell_type": "code",
   "execution_count": 14,
   "id": "7d9ac8c5",
   "metadata": {},
   "outputs": [
    {
     "name": "stdout",
     "output_type": "stream",
     "text": [
      "+--------------------+-------+\n",
      "|            features|Outcome|\n",
      "+--------------------+-------+\n",
      "|[6.0,148.0,72.0,3...|      1|\n",
      "|[1.0,85.0,66.0,29...|      0|\n",
      "|[8.0,183.0,64.0,0...|      1|\n",
      "|[1.0,89.0,66.0,23...|      0|\n",
      "|[0.0,137.0,40.0,3...|      1|\n",
      "|[5.0,116.0,74.0,0...|      0|\n",
      "|[3.0,78.0,50.0,32...|      1|\n",
      "|[2.0,197.0,70.0,4...|      1|\n",
      "|[4.0,110.0,92.0,0...|      0|\n",
      "|[10.0,168.0,74.0,...|      1|\n",
      "|[10.0,139.0,80.0,...|      0|\n",
      "|[1.0,189.0,60.0,2...|      1|\n",
      "|[5.0,166.0,72.0,1...|      1|\n",
      "|[0.0,118.0,84.0,4...|      1|\n",
      "|[7.0,107.0,74.0,0...|      1|\n",
      "|[1.0,115.0,70.0,3...|      1|\n",
      "|[3.0,126.0,88.0,4...|      0|\n",
      "|[8.0,99.0,84.0,0....|      0|\n",
      "|[7.0,196.0,90.0,0...|      1|\n",
      "|[9.0,119.0,80.0,3...|      1|\n",
      "+--------------------+-------+\n",
      "only showing top 20 rows\n",
      "\n"
     ]
    }
   ],
   "source": [
    "# Para realizar operaciones más detalladas es necesario expresar las filas originales en vectores\n",
    "from pyspark.ml.feature import VectorAssembler\n",
    "\n",
    "assembler = VectorAssembler(\n",
    "    inputCols=[\"Pregnancies\", \"Glucose\", \"BloodPressure\", \"SkinThickness\",\n",
    "               \"Insulin\", \"BMI\", \"DiabetesPedigreeFunction\", \"Age\"],\n",
    "    outputCol='features')\n",
    "\n",
    "vector_df = assembler.transform(filtered_df)\n",
    "vector_df = vector_df.select(['features', 'Outcome'])\n",
    "vector_df.show()"
   ]
  },
  {
   "cell_type": "code",
   "execution_count": 15,
   "id": "dc91afc3",
   "metadata": {},
   "outputs": [
    {
     "name": "stderr",
     "output_type": "stream",
     "text": [
      "25/07/23 20:43:51 WARN InstanceBuilder: Failed to load implementation from:dev.ludovic.netlib.blas.JNIBLAS\n",
      "                                                                                \r"
     ]
    },
    {
     "data": {
      "text/plain": [
       "<AxesSubplot:>"
      ]
     },
     "execution_count": 15,
     "metadata": {},
     "output_type": "execute_result"
    },
    {
     "data": {
      "image/png": "[encoded data removed]",
      "text/plain": [
       "<Figure size 640x480 with 2 Axes>"
      ]
     },
     "metadata": {},
     "output_type": "display_data"
    }
   ],
   "source": [
    "from pyspark.ml.stat import Correlation\n",
    "import seaborn as sns\n",
    "import matplotlib.pyplot as plt\n",
    "\n",
    "pearson_matrix = Correlation.corr(vector_df, 'features').collect()[0][0]\n",
    "\n",
    "sns.heatmap(pearson_matrix.toArray(), annot=True, fmt=\".2f\", cmap='viridis')"
   ]
  },
  {
   "cell_type": "code",
   "execution_count": 16,
   "id": "d22a35ef",
   "metadata": {},
   "outputs": [
    {
     "name": "stdout",
     "output_type": "stream",
     "text": [
      "+--------------------+-------+--------------------+\n",
      "|            features|Outcome|     scaled_features|\n",
      "+--------------------+-------+--------------------+\n",
      "|[6.0,148.0,72.0,3...|      1|[1.78756034833938...|\n",
      "|[1.0,85.0,66.0,29...|      0|[0.29792672472323...|\n",
      "|[8.0,183.0,64.0,0...|      1|[2.38341379778584...|\n",
      "|[1.0,89.0,66.0,23...|      0|[0.29792672472323...|\n",
      "|[0.0,137.0,40.0,3...|      1|[0.0,4.4876637610...|\n",
      "|[5.0,116.0,74.0,0...|      0|[1.48963362361615...|\n",
      "|[3.0,78.0,50.0,32...|      1|[0.89378017416969...|\n",
      "|[2.0,197.0,70.0,4...|      1|[0.59585344944646...|\n",
      "|[4.0,110.0,92.0,0...|      0|[1.19170689889292...|\n",
      "|[10.0,168.0,74.0,...|      1|[2.97926724723230...|\n",
      "|[10.0,139.0,80.0,...|      0|[2.97926724723230...|\n",
      "|[1.0,189.0,60.0,2...|      1|[0.29792672472323...|\n",
      "|[5.0,166.0,72.0,1...|      1|[1.48963362361615...|\n",
      "|[0.0,118.0,84.0,4...|      1|[0.0,3.8652870350...|\n",
      "|[7.0,107.0,74.0,0...|      1|[2.08548707306261...|\n",
      "|[1.0,115.0,70.0,3...|      1|[0.29792672472323...|\n",
      "|[3.0,126.0,88.0,4...|      0|[0.89378017416969...|\n",
      "|[8.0,99.0,84.0,0....|      0|[2.38341379778584...|\n",
      "|[7.0,196.0,90.0,0...|      1|[2.08548707306261...|\n",
      "|[9.0,119.0,80.0,3...|      1|[2.68134052250907...|\n",
      "+--------------------+-------+--------------------+\n",
      "only showing top 20 rows\n",
      "\n"
     ]
    }
   ],
   "source": [
    "from pyspark.ml.feature import VectorAssembler, StandardScaler\n",
    "from pyspark.sql import SparkSession\n",
    "\n",
    "standard_scaler = StandardScaler(inputCol=\"features\",outputCol=\"scaled_features\",)\n",
    "\n",
    "scale_model = standard_scaler.fit(vector_df)\n",
    "\n",
    "scaled_df = scale_model.transform(vector_df)\n",
    "\n",
    "scaled_df.show()\n"
   ]
  },
  {
   "cell_type": "code",
   "execution_count": 20,
   "id": "837ac5ca",
   "metadata": {
    "scrolled": true
   },
   "outputs": [
    {
     "name": "stdout",
     "output_type": "stream",
     "text": [
      "Filas en resultLinReg: 708\n",
      "+------------------+------------------+------------------+------------------+------------------+-----------------+------------------------+------------------+-------+\n",
      "|       Pregnancies|           Glucose|     BloodPressure|     SkinThickness|           Insulin|              BMI|DiabetesPedigreeFunction|               Age|Outcome|\n",
      "+------------------+------------------+------------------+------------------+------------------+-----------------+------------------------+------------------+-------+\n",
      "| 1.787560348339381|4.8479871287573255|6.3097322299253795|2.2829583771646025|               0.0|5.235238252639466|      1.9212497183087591| 4.268985670551658|      1|\n",
      "|0.2979267247232302|2.7843169320565724| 5.783921210764931|1.8915940839363847|               0.0|  4.1445638643273|      1.0755322167325527|2.6467711157420277|      0|\n",
      "|2.3834137977858414| 5.994470571368855| 5.608650871044782|               0.0|               0.0|3.630388477138778|       2.059138510874525|2.7321508291530607|      1|\n",
      "|0.2979267247232302|2.9153436112121756| 5.783921210764931|1.5002297907081672|0.8136677601897307|4.378279868362464|      0.5117204272549417| 1.792973981631696|      0|\n",
      "|               0.0| 4.487663761079417|3.5054067944029885|2.2829583771646025|1.4542147203390932|6.715439611528839|       7.010876780265653|2.8175305425640937|      1|\n",
      "+------------------+------------------+------------------+------------------+------------------+-----------------+------------------------+------------------+-------+\n",
      "only showing top 5 rows\n",
      "\n"
     ]
    }
   ],
   "source": [
    "from pyspark.ml.functions import vector_to_array\n",
    "\n",
    "scaled_df = scaled_df.withColumn(\"scaled_array\", vector_to_array(\"scaled_features\"))\n",
    "\n",
    "feature_cols = [\"Pregnancies\", \"Glucose\", \"BloodPressure\", \"SkinThickness\",\"Insulin\", \"BMI\", \"DiabetesPedigreeFunction\", \"Age\"]\n",
    "\n",
    "for i, col_name in enumerate(feature_cols):\n",
    "    scaled_df = scaled_df.withColumn(\n",
    "        f\"{col_name}_scaled\",\n",
    "        col(\"scaled_array\")[i]\n",
    "    )\n",
    "    \n",
    "# (columnas individuales)\n",
    "final_df = scaled_df.select(\n",
    "    *[f\"{col}_scaled\" for col in feature_cols],\n",
    "    \"Outcome\"\n",
    ")\n",
    "\n",
    "#  quitar sufijo “_scaled”\n",
    "for col_name in feature_cols:\n",
    "    final_df = final_df.withColumnRenamed(f\"{col_name}_scaled\", col_name)\n",
    "\n",
    "final_df.write \\\n",
    "    .format(\"jdbc\") \\\n",
    "    .mode(\"overwrite\") \\\n",
    "    .option(\"url\", \"jdbc:postgresql://host.docker.internal:5433/postgres\") \\\n",
    "    .option(\"user\", \"postgres\") \\\n",
    "    .option(\"password\", \"pword\") \\\n",
    "    .option(\"dbtable\", \"resultLinReg\") \\\n",
    "    .save()\n",
    "\n",
    "\n",
    "test_df = spark.read \\\n",
    "  .format(\"jdbc\") \\\n",
    "  .option(\"url\", \"jdbc:postgresql://host.docker.internal:5433/postgres\") \\\n",
    "  .option(\"user\", \"postgres\") \\\n",
    "  .option(\"password\", \"pword\") \\\n",
    "  .option(\"dbtable\", \"resultLinReg\") \\\n",
    "  .load()\n",
    "\n",
    "print(\"Filas en resultLinReg:\", test_df.count())\n",
    "test_df.show(5)\n",
    "\n"
   ]
  },
  {
   "cell_type": "code",
   "execution_count": null,
   "id": "6a907f4c",
   "metadata": {},
   "outputs": [],
   "source": []
  },
  {
   "cell_type": "markdown",
   "id": "b193711b",
   "metadata": {},
   "source": [
    "En la celda de arriba simplemente estamos guardando los datos ya limpios dentro de la base de datos iterando por cada una de las columnas para asegurarse que se mantengan todos los datos de los features, para verificar que se están guardando correctamente podemos ver las 5 primeras filas.\n",
    "Posteriormente vamos a importar las bibliotecas necesarias para el entrenamiento del modelo y leer los datos de la base.\n"
   ]
  },
  {
   "cell_type": "markdown",
   "id": "b96924c6",
   "metadata": {},
   "source": [
    "# Primer modelo (Random Forest)"
   ]
  },
  {
   "cell_type": "code",
   "execution_count": 23,
   "id": "d2eec806",
   "metadata": {},
   "outputs": [],
   "source": [
    "from pyspark.ml.classification import RandomForestClassifier\n",
    "from pyspark.ml.evaluation import BinaryClassificationEvaluator, MulticlassClassificationEvaluator\n",
    "from pyspark.ml.tuning import CrossValidator, ParamGridBuilder\n",
    "\n",
    "db_url = \"jdbc:postgresql://host.docker.internal:5433/postgres\"\n",
    "db_properties = {\n",
    "    \"user\": \"postgres\",\n",
    "    \"password\": \"pword\",\n",
    "    \"driver\": \"org.postgresql.Driver\"\n",
    "}\n",
    "\n",
    "df = spark.read.jdbc(\n",
    "    url=db_url,\n",
    "    table=\"resultLinReg\",\n",
    "    properties=db_properties\n",
    ")"
   ]
  },
  {
   "cell_type": "markdown",
   "id": "0d3a6974",
   "metadata": {},
   "source": [
    "Elegimos Random Forest porque va muy acorde al tamaño de nuestro dataset que no es muy grande, por lo que es un tiempo de entrenado razonable, incluyendo el hecho de que nos da métricas de suma importancia para identificar que factores influyen más en la predicción de la diabetes. Ahorita vamos a preparar el modelo para entrenamiento así como su validación \n"
   ]
  },
  {
   "cell_type": "markdown",
   "id": "1f743e8f",
   "metadata": {},
   "source": [
    "## Obtencion de datos"
   ]
  },
  {
   "cell_type": "code",
   "execution_count": 24,
   "id": "8ee1d2bf",
   "metadata": {},
   "outputs": [],
   "source": [
    "#Tomamos los datos\n",
    "feature_cols = [\"Pregnancies\", \"Glucose\", \"BloodPressure\", \"SkinThickness\",\n",
    "                \"Insulin\", \"BMI\", \"DiabetesPedigreeFunction\", \"Age\"]\n",
    "\n",
    "assembler = VectorAssembler(\n",
    "    inputCols=feature_cols,\n",
    "    outputCol=\"features\"\n",
    ")\n",
    "\n",
    "# Dividimos un 80% en datos de entrenamiento y dejamos un 20% para la validación\n",
    "train_val, validation_test = df.randomSplit([0.8, 0.2], seed=42)\n",
    "\n",
    "randomforest = RandomForestClassifier(\n",
    "    featuresCol=\"features\",\n",
    "    labelCol=\"Outcome\",\n",
    "    seed=42\n",
    ")\n",
    "\n",
    "pipeline = Pipeline(stages=[assembler, randomforest])\n",
    "\n",
    "evaluator = BinaryClassificationEvaluator(\n",
    "    labelCol=\"Outcome\",\n",
    "    metricName=\"areaUnderROC\"\n",
    ")\n",
    "\n",
    "# K-Fold Cross Validation con k=5\n",
    "paramGrid = ParamGridBuilder() \\\n",
    "    .addGrid(randomforest.numTrees, [50, 100, 150]) \\\n",
    "    .addGrid(randomforest.maxDepth, [5, 10, 15]) \\\n",
    "    .addGrid(randomforest.maxBins, [32, 64]) \\\n",
    "    .build()\n",
    "\n",
    "crossval = CrossValidator(\n",
    "    estimator=pipeline,\n",
    "    estimatorParamMaps=paramGrid,\n",
    "    evaluator=evaluator,\n",
    "    numFolds=5,  \n",
    "    seed=42\n",
    ")\n"
   ]
  },
  {
   "cell_type": "markdown",
   "id": "ffe5b896",
   "metadata": {},
   "source": [
    "# #Entrenamiento \n"
   ]
  },
  {
   "cell_type": "code",
   "execution_count": 25,
   "id": "d0cfd67a",
   "metadata": {},
   "outputs": [
    {
     "name": "stderr",
     "output_type": "stream",
     "text": [
      "25/07/23 22:22:38 WARN DAGScheduler: Broadcasting large task binary with size 1215.1 KiB\n",
      "25/07/23 22:22:39 WARN DAGScheduler: Broadcasting large task binary with size 1440.8 KiB\n",
      "25/07/23 22:22:39 WARN DAGScheduler: Broadcasting large task binary with size 1618.4 KiB\n",
      "25/07/23 22:22:39 WARN DAGScheduler: Broadcasting large task binary with size 1228.4 KiB\n",
      "25/07/23 22:22:40 WARN DAGScheduler: Broadcasting large task binary with size 1186.7 KiB\n",
      "25/07/23 22:22:40 WARN DAGScheduler: Broadcasting large task binary with size 1408.5 KiB\n",
      "25/07/23 22:22:40 WARN DAGScheduler: Broadcasting large task binary with size 1559.3 KiB\n",
      "25/07/23 22:22:41 WARN DAGScheduler: Broadcasting large task binary with size 1202.5 KiB\n",
      "25/07/23 22:22:42 WARN DAGScheduler: Broadcasting large task binary with size 1215.1 KiB\n",
      "25/07/23 22:22:42 WARN DAGScheduler: Broadcasting large task binary with size 1440.8 KiB\n",
      "25/07/23 22:22:42 WARN DAGScheduler: Broadcasting large task binary with size 1618.4 KiB\n",
      "25/07/23 22:22:42 WARN DAGScheduler: Broadcasting large task binary with size 1730.2 KiB\n",
      "25/07/23 22:22:42 WARN DAGScheduler: Broadcasting large task binary with size 1670.5 KiB\n",
      "25/07/23 22:22:42 WARN DAGScheduler: Broadcasting large task binary with size 1319.6 KiB\n",
      "25/07/23 22:22:42 WARN DAGScheduler: Broadcasting large task binary with size 1032.4 KiB\n",
      "25/07/23 22:22:43 WARN DAGScheduler: Broadcasting large task binary with size 1379.5 KiB\n",
      "25/07/23 22:22:44 WARN DAGScheduler: Broadcasting large task binary with size 1186.7 KiB\n",
      "25/07/23 22:22:44 WARN DAGScheduler: Broadcasting large task binary with size 1408.5 KiB\n",
      "25/07/23 22:22:44 WARN DAGScheduler: Broadcasting large task binary with size 1559.3 KiB\n",
      "25/07/23 22:22:44 WARN DAGScheduler: Broadcasting large task binary with size 1599.4 KiB\n",
      "25/07/23 22:22:44 WARN DAGScheduler: Broadcasting large task binary with size 1522.7 KiB\n",
      "25/07/23 22:22:45 WARN DAGScheduler: Broadcasting large task binary with size 1235.6 KiB\n",
      "25/07/23 22:22:45 WARN DAGScheduler: Broadcasting large task binary with size 1324.5 KiB\n",
      "25/07/23 22:22:48 WARN DAGScheduler: Broadcasting large task binary with size 1368.6 KiB\n",
      "25/07/23 22:22:48 WARN DAGScheduler: Broadcasting large task binary with size 1780.9 KiB\n",
      "25/07/23 22:22:48 WARN DAGScheduler: Broadcasting large task binary with size 2.1 MiB\n",
      "25/07/23 22:22:49 WARN DAGScheduler: Broadcasting large task binary with size 2.4 MiB\n",
      "25/07/23 22:22:49 WARN DAGScheduler: Broadcasting large task binary with size 1812.5 KiB\n",
      "25/07/23 22:22:50 WARN DAGScheduler: Broadcasting large task binary with size 1318.6 KiB\n",
      "25/07/23 22:22:50 WARN DAGScheduler: Broadcasting large task binary with size 1699.4 KiB\n",
      "25/07/23 22:22:50 WARN DAGScheduler: Broadcasting large task binary with size 2034.3 KiB\n",
      "25/07/23 22:22:51 WARN DAGScheduler: Broadcasting large task binary with size 2.2 MiB\n",
      "25/07/23 22:22:51 WARN DAGScheduler: Broadcasting large task binary with size 1754.7 KiB\n",
      "25/07/23 22:22:52 WARN DAGScheduler: Broadcasting large task binary with size 1368.6 KiB\n",
      "25/07/23 22:22:52 WARN DAGScheduler: Broadcasting large task binary with size 1780.9 KiB\n",
      "25/07/23 22:22:52 WARN DAGScheduler: Broadcasting large task binary with size 2.1 MiB\n",
      "25/07/23 22:22:53 WARN DAGScheduler: Broadcasting large task binary with size 2.4 MiB\n",
      "25/07/23 22:22:53 WARN DAGScheduler: Broadcasting large task binary with size 2.5 MiB\n",
      "25/07/23 22:22:53 WARN DAGScheduler: Broadcasting large task binary with size 2.3 MiB\n",
      "25/07/23 22:22:53 WARN DAGScheduler: Broadcasting large task binary with size 1864.6 KiB\n",
      "25/07/23 22:22:53 WARN DAGScheduler: Broadcasting large task binary with size 1065.2 KiB\n",
      "25/07/23 22:22:54 WARN DAGScheduler: Broadcasting large task binary with size 2009.8 KiB\n",
      "25/07/23 22:22:55 WARN DAGScheduler: Broadcasting large task binary with size 1318.6 KiB\n",
      "25/07/23 22:22:55 WARN DAGScheduler: Broadcasting large task binary with size 1699.4 KiB\n",
      "25/07/23 22:22:55 WARN DAGScheduler: Broadcasting large task binary with size 2034.3 KiB\n",
      "25/07/23 22:22:55 WARN DAGScheduler: Broadcasting large task binary with size 2.2 MiB\n",
      "25/07/23 22:22:56 WARN DAGScheduler: Broadcasting large task binary with size 2.4 MiB\n",
      "25/07/23 22:22:56 WARN DAGScheduler: Broadcasting large task binary with size 2.3 MiB\n",
      "25/07/23 22:22:56 WARN DAGScheduler: Broadcasting large task binary with size 1968.6 KiB\n",
      "25/07/23 22:22:56 WARN DAGScheduler: Broadcasting large task binary with size 1280.8 KiB\n",
      "25/07/23 22:22:56 WARN DAGScheduler: Broadcasting large task binary with size 1962.2 KiB\n",
      "25/07/23 22:23:05 WARN DAGScheduler: Broadcasting large task binary with size 1125.4 KiB\n",
      "25/07/23 22:23:05 WARN DAGScheduler: Broadcasting large task binary with size 1329.2 KiB\n",
      "25/07/23 22:23:05 WARN DAGScheduler: Broadcasting large task binary with size 1483.0 KiB\n",
      "25/07/23 22:23:06 WARN DAGScheduler: Broadcasting large task binary with size 1140.4 KiB\n",
      "25/07/23 22:23:07 WARN DAGScheduler: Broadcasting large task binary with size 1101.7 KiB\n",
      "25/07/23 22:23:07 WARN DAGScheduler: Broadcasting large task binary with size 1298.6 KiB\n",
      "25/07/23 22:23:07 WARN DAGScheduler: Broadcasting large task binary with size 1431.3 KiB\n",
      "25/07/23 22:23:08 WARN DAGScheduler: Broadcasting large task binary with size 1122.0 KiB\n",
      "25/07/23 22:23:08 WARN DAGScheduler: Broadcasting large task binary with size 1125.4 KiB\n",
      "25/07/23 22:23:09 WARN DAGScheduler: Broadcasting large task binary with size 1329.2 KiB\n",
      "25/07/23 22:23:09 WARN DAGScheduler: Broadcasting large task binary with size 1483.0 KiB\n",
      "25/07/23 22:23:09 WARN DAGScheduler: Broadcasting large task binary with size 1523.6 KiB\n",
      "25/07/23 22:23:09 WARN DAGScheduler: Broadcasting large task binary with size 1332.9 KiB\n",
      "25/07/23 22:23:10 WARN DAGScheduler: Broadcasting large task binary with size 1241.8 KiB\n",
      "25/07/23 22:23:11 WARN DAGScheduler: Broadcasting large task binary with size 1101.7 KiB\n",
      "25/07/23 22:23:11 WARN DAGScheduler: Broadcasting large task binary with size 1298.6 KiB\n",
      "25/07/23 22:23:11 WARN DAGScheduler: Broadcasting large task binary with size 1431.3 KiB\n",
      "25/07/23 22:23:11 WARN DAGScheduler: Broadcasting large task binary with size 1474.4 KiB\n",
      "25/07/23 22:23:11 WARN DAGScheduler: Broadcasting large task binary with size 1256.4 KiB\n",
      "25/07/23 22:23:12 WARN DAGScheduler: Broadcasting large task binary with size 1224.9 KiB\n",
      "25/07/23 22:23:15 WARN DAGScheduler: Broadcasting large task binary with size 1289.7 KiB\n",
      "25/07/23 22:23:15 WARN DAGScheduler: Broadcasting large task binary with size 1645.2 KiB\n",
      "25/07/23 22:23:15 WARN DAGScheduler: Broadcasting large task binary with size 1960.4 KiB\n",
      "25/07/23 22:23:15 WARN DAGScheduler: Broadcasting large task binary with size 2.2 MiB\n",
      "25/07/23 22:23:16 WARN DAGScheduler: Broadcasting large task binary with size 1687.5 KiB\n",
      "25/07/23 22:23:17 WARN DAGScheduler: Broadcasting large task binary with size 1241.9 KiB\n",
      "25/07/23 22:23:17 WARN DAGScheduler: Broadcasting large task binary with size 1588.6 KiB\n",
      "25/07/23 22:23:17 WARN DAGScheduler: Broadcasting large task binary with size 1886.2 KiB\n",
      "25/07/23 22:23:17 WARN DAGScheduler: Broadcasting large task binary with size 2.1 MiB\n",
      "25/07/23 22:23:18 WARN DAGScheduler: Broadcasting large task binary with size 1631.5 KiB\n",
      "25/07/23 22:23:18 WARN DAGScheduler: Broadcasting large task binary with size 1289.7 KiB\n",
      "25/07/23 22:23:19 WARN DAGScheduler: Broadcasting large task binary with size 1645.2 KiB\n",
      "25/07/23 22:23:19 WARN DAGScheduler: Broadcasting large task binary with size 1960.4 KiB\n",
      "25/07/23 22:23:19 WARN DAGScheduler: Broadcasting large task binary with size 2.2 MiB\n",
      "25/07/23 22:23:19 WARN DAGScheduler: Broadcasting large task binary with size 2.2 MiB\n",
      "25/07/23 22:23:19 WARN DAGScheduler: Broadcasting large task binary with size 1991.3 KiB\n",
      "25/07/23 22:23:19 WARN DAGScheduler: Broadcasting large task binary with size 1334.0 KiB\n",
      "25/07/23 22:23:20 WARN DAGScheduler: Broadcasting large task binary with size 1851.4 KiB\n",
      "25/07/23 22:23:21 WARN DAGScheduler: Broadcasting large task binary with size 1241.9 KiB\n",
      "25/07/23 22:23:21 WARN DAGScheduler: Broadcasting large task binary with size 1588.6 KiB\n",
      "25/07/23 22:23:21 WARN DAGScheduler: Broadcasting large task binary with size 1886.2 KiB\n",
      "25/07/23 22:23:21 WARN DAGScheduler: Broadcasting large task binary with size 2.1 MiB\n",
      "25/07/23 22:23:22 WARN DAGScheduler: Broadcasting large task binary with size 2.1 MiB\n",
      "25/07/23 22:23:22 WARN DAGScheduler: Broadcasting large task binary with size 1935.5 KiB\n",
      "25/07/23 22:23:22 WARN DAGScheduler: Broadcasting large task binary with size 1304.7 KiB\n",
      "25/07/23 22:23:22 WARN DAGScheduler: Broadcasting large task binary with size 1799.4 KiB\n",
      "25/07/23 22:23:31 WARN DAGScheduler: Broadcasting large task binary with size 1152.5 KiB\n",
      "25/07/23 22:23:31 WARN DAGScheduler: Broadcasting large task binary with size 1382.5 KiB\n",
      "25/07/23 22:23:32 WARN DAGScheduler: Broadcasting large task binary with size 1566.4 KiB\n",
      "25/07/23 22:23:32 WARN DAGScheduler: Broadcasting large task binary with size 1194.1 KiB\n",
      "25/07/23 22:23:33 WARN DAGScheduler: Broadcasting large task binary with size 1124.1 KiB\n",
      "25/07/23 22:23:33 WARN DAGScheduler: Broadcasting large task binary with size 1344.9 KiB\n",
      "25/07/23 22:23:33 WARN DAGScheduler: Broadcasting large task binary with size 1504.1 KiB\n",
      "25/07/23 22:23:34 WARN DAGScheduler: Broadcasting large task binary with size 1171.1 KiB\n",
      "25/07/23 22:23:35 WARN DAGScheduler: Broadcasting large task binary with size 1152.5 KiB\n",
      "25/07/23 22:23:35 WARN DAGScheduler: Broadcasting large task binary with size 1382.5 KiB\n",
      "25/07/23 22:23:35 WARN DAGScheduler: Broadcasting large task binary with size 1566.4 KiB\n",
      "25/07/23 22:23:35 WARN DAGScheduler: Broadcasting large task binary with size 1679.0 KiB\n",
      "25/07/23 22:23:35 WARN DAGScheduler: Broadcasting large task binary with size 1542.0 KiB\n",
      "25/07/23 22:23:35 WARN DAGScheduler: Broadcasting large task binary with size 1221.5 KiB\n",
      "25/07/23 22:23:36 WARN DAGScheduler: Broadcasting large task binary with size 1341.0 KiB\n",
      "25/07/23 22:23:37 WARN DAGScheduler: Broadcasting large task binary with size 1124.1 KiB\n",
      "25/07/23 22:23:37 WARN DAGScheduler: Broadcasting large task binary with size 1344.9 KiB\n",
      "25/07/23 22:23:37 WARN DAGScheduler: Broadcasting large task binary with size 1504.1 KiB\n",
      "25/07/23 22:23:37 WARN DAGScheduler: Broadcasting large task binary with size 1612.2 KiB\n",
      "25/07/23 22:23:37 WARN DAGScheduler: Broadcasting large task binary with size 1606.4 KiB\n",
      "25/07/23 22:23:37 WARN DAGScheduler: Broadcasting large task binary with size 1239.2 KiB\n",
      "25/07/23 22:23:38 WARN DAGScheduler: Broadcasting large task binary with size 1311.4 KiB\n",
      "25/07/23 22:23:40 WARN DAGScheduler: Broadcasting large task binary with size 1301.9 KiB\n",
      "25/07/23 22:23:41 WARN DAGScheduler: Broadcasting large task binary with size 1674.9 KiB\n",
      "25/07/23 22:23:41 WARN DAGScheduler: Broadcasting large task binary with size 1999.1 KiB\n",
      "25/07/23 22:23:41 WARN DAGScheduler: Broadcasting large task binary with size 2.2 MiB\n",
      "25/07/23 22:23:41 WARN DAGScheduler: Broadcasting large task binary with size 1728.2 KiB\n",
      "25/07/23 22:23:42 WARN DAGScheduler: Broadcasting large task binary with size 1268.8 KiB\n",
      "25/07/23 22:23:42 WARN DAGScheduler: Broadcasting large task binary with size 1637.1 KiB\n",
      "25/07/23 22:23:43 WARN DAGScheduler: Broadcasting large task binary with size 1962.2 KiB\n",
      "25/07/23 22:23:43 WARN DAGScheduler: Broadcasting large task binary with size 2.2 MiB\n",
      "25/07/23 22:23:43 WARN DAGScheduler: Broadcasting large task binary with size 1701.8 KiB\n",
      "25/07/23 22:23:44 WARN DAGScheduler: Broadcasting large task binary with size 1301.9 KiB\n",
      "25/07/23 22:23:44 WARN DAGScheduler: Broadcasting large task binary with size 1674.9 KiB\n",
      "25/07/23 22:23:45 WARN DAGScheduler: Broadcasting large task binary with size 1999.1 KiB\n",
      "25/07/23 22:23:45 WARN DAGScheduler: Broadcasting large task binary with size 2.2 MiB\n",
      "25/07/23 22:23:45 WARN DAGScheduler: Broadcasting large task binary with size 2.4 MiB\n",
      "25/07/23 22:23:45 WARN DAGScheduler: Broadcasting large task binary with size 2.3 MiB\n",
      "25/07/23 22:23:45 WARN DAGScheduler: Broadcasting large task binary with size 1686.8 KiB\n",
      "25/07/23 22:23:45 WARN DAGScheduler: Broadcasting large task binary with size 1231.3 KiB\n",
      "25/07/23 22:23:46 WARN DAGScheduler: Broadcasting large task binary with size 1949.1 KiB\n",
      "25/07/23 22:23:47 WARN DAGScheduler: Broadcasting large task binary with size 1268.8 KiB\n",
      "25/07/23 22:23:47 WARN DAGScheduler: Broadcasting large task binary with size 1637.1 KiB\n",
      "25/07/23 22:23:47 WARN DAGScheduler: Broadcasting large task binary with size 1962.2 KiB\n",
      "25/07/23 22:23:47 WARN DAGScheduler: Broadcasting large task binary with size 2.2 MiB\n",
      "25/07/23 22:23:48 WARN DAGScheduler: Broadcasting large task binary with size 2.3 MiB\n",
      "25/07/23 22:23:48 WARN DAGScheduler: Broadcasting large task binary with size 2.2 MiB\n",
      "25/07/23 22:23:48 WARN DAGScheduler: Broadcasting large task binary with size 1758.3 KiB\n",
      "25/07/23 22:23:48 WARN DAGScheduler: Broadcasting large task binary with size 1293.6 KiB\n",
      "25/07/23 22:23:48 WARN DAGScheduler: Broadcasting large task binary with size 1917.6 KiB\n",
      "25/07/23 22:23:57 WARN DAGScheduler: Broadcasting large task binary with size 1216.4 KiB\n",
      "25/07/23 22:23:57 WARN DAGScheduler: Broadcasting large task binary with size 1435.4 KiB\n",
      "25/07/23 22:23:57 WARN DAGScheduler: Broadcasting large task binary with size 1598.5 KiB\n",
      "25/07/23 22:23:58 WARN DAGScheduler: Broadcasting large task binary with size 1208.4 KiB\n",
      "25/07/23 22:23:59 WARN DAGScheduler: Broadcasting large task binary with size 1196.5 KiB\n",
      "25/07/23 22:23:59 WARN DAGScheduler: Broadcasting large task binary with size 1402.3 KiB\n",
      "25/07/23 22:23:59 WARN DAGScheduler: Broadcasting large task binary with size 1545.9 KiB\n",
      "25/07/23 22:23:59 WARN DAGScheduler: Broadcasting large task binary with size 1176.3 KiB\n",
      "25/07/23 22:24:00 WARN DAGScheduler: Broadcasting large task binary with size 1216.4 KiB\n",
      "25/07/23 22:24:00 WARN DAGScheduler: Broadcasting large task binary with size 1435.4 KiB\n",
      "25/07/23 22:24:01 WARN DAGScheduler: Broadcasting large task binary with size 1598.5 KiB\n",
      "25/07/23 22:24:01 WARN DAGScheduler: Broadcasting large task binary with size 1643.5 KiB\n",
      "25/07/23 22:24:01 WARN DAGScheduler: Broadcasting large task binary with size 1385.3 KiB\n",
      "25/07/23 22:24:01 WARN DAGScheduler: Broadcasting large task binary with size 1317.4 KiB\n",
      "25/07/23 22:24:02 WARN DAGScheduler: Broadcasting large task binary with size 1196.5 KiB\n",
      "25/07/23 22:24:02 WARN DAGScheduler: Broadcasting large task binary with size 1402.3 KiB\n",
      "25/07/23 22:24:03 WARN DAGScheduler: Broadcasting large task binary with size 1545.9 KiB\n",
      "25/07/23 22:24:03 WARN DAGScheduler: Broadcasting large task binary with size 1563.0 KiB\n",
      "25/07/23 22:24:03 WARN DAGScheduler: Broadcasting large task binary with size 1308.6 KiB\n",
      "25/07/23 22:24:03 WARN DAGScheduler: Broadcasting large task binary with size 1282.5 KiB\n",
      "25/07/23 22:24:06 WARN DAGScheduler: Broadcasting large task binary with size 1375.6 KiB\n",
      "25/07/23 22:24:06 WARN DAGScheduler: Broadcasting large task binary with size 1782.4 KiB\n",
      "25/07/23 22:24:06 WARN DAGScheduler: Broadcasting large task binary with size 2.1 MiB\n",
      "25/07/23 22:24:06 WARN DAGScheduler: Broadcasting large task binary with size 2.3 MiB\n",
      "25/07/23 22:24:07 WARN DAGScheduler: Broadcasting large task binary with size 1776.6 KiB\n",
      "25/07/23 22:24:08 WARN DAGScheduler: Broadcasting large task binary with size 1341.7 KiB\n",
      "25/07/23 22:24:08 WARN DAGScheduler: Broadcasting large task binary with size 1729.6 KiB\n",
      "25/07/23 22:24:08 WARN DAGScheduler: Broadcasting large task binary with size 2043.0 KiB\n",
      "25/07/23 22:24:08 WARN DAGScheduler: Broadcasting large task binary with size 2.2 MiB\n",
      "25/07/23 22:24:09 WARN DAGScheduler: Broadcasting large task binary with size 1732.0 KiB\n",
      "25/07/23 22:24:10 WARN DAGScheduler: Broadcasting large task binary with size 1375.6 KiB\n",
      "25/07/23 22:24:10 WARN DAGScheduler: Broadcasting large task binary with size 1782.4 KiB\n",
      "25/07/23 22:24:10 WARN DAGScheduler: Broadcasting large task binary with size 2.1 MiB\n",
      "25/07/23 22:24:10 WARN DAGScheduler: Broadcasting large task binary with size 2.3 MiB\n",
      "25/07/23 22:24:10 WARN DAGScheduler: Broadcasting large task binary with size 2.3 MiB\n",
      "25/07/23 22:24:11 WARN DAGScheduler: Broadcasting large task binary with size 1971.1 KiB\n",
      "25/07/23 22:24:11 WARN DAGScheduler: Broadcasting large task binary with size 1294.6 KiB\n",
      "25/07/23 22:24:11 WARN DAGScheduler: Broadcasting large task binary with size 1924.0 KiB\n",
      "25/07/23 22:24:12 WARN DAGScheduler: Broadcasting large task binary with size 1341.7 KiB\n",
      "25/07/23 22:24:13 WARN DAGScheduler: Broadcasting large task binary with size 1729.6 KiB\n",
      "25/07/23 22:24:13 WARN DAGScheduler: Broadcasting large task binary with size 2043.0 KiB\n",
      "25/07/23 22:24:13 WARN DAGScheduler: Broadcasting large task binary with size 2.2 MiB\n",
      "25/07/23 22:24:13 WARN DAGScheduler: Broadcasting large task binary with size 2.3 MiB\n",
      "25/07/23 22:24:13 WARN DAGScheduler: Broadcasting large task binary with size 1909.6 KiB\n",
      "25/07/23 22:24:14 WARN DAGScheduler: Broadcasting large task binary with size 1295.5 KiB\n",
      "25/07/23 22:24:14 WARN DAGScheduler: Broadcasting large task binary with size 1878.5 KiB\n",
      "25/07/23 22:24:23 WARN DAGScheduler: Broadcasting large task binary with size 1210.9 KiB\n",
      "25/07/23 22:24:23 WARN DAGScheduler: Broadcasting large task binary with size 1450.6 KiB\n",
      "25/07/23 22:24:23 WARN DAGScheduler: Broadcasting large task binary with size 1639.4 KiB\n",
      "25/07/23 22:24:23 WARN DAGScheduler: Broadcasting large task binary with size 1241.5 KiB\n",
      "25/07/23 22:24:24 WARN DAGScheduler: Broadcasting large task binary with size 1197.0 KiB\n",
      "25/07/23 22:24:25 WARN DAGScheduler: Broadcasting large task binary with size 1423.6 KiB\n",
      "25/07/23 22:24:25 WARN DAGScheduler: Broadcasting large task binary with size 1600.4 KiB\n",
      "25/07/23 22:24:25 WARN DAGScheduler: Broadcasting large task binary with size 1219.9 KiB\n",
      "25/07/23 22:24:26 WARN DAGScheduler: Broadcasting large task binary with size 1210.9 KiB\n",
      "25/07/23 22:24:26 WARN DAGScheduler: Broadcasting large task binary with size 1450.6 KiB\n",
      "25/07/23 22:24:26 WARN DAGScheduler: Broadcasting large task binary with size 1639.4 KiB\n",
      "25/07/23 22:24:27 WARN DAGScheduler: Broadcasting large task binary with size 1718.6 KiB\n",
      "25/07/23 22:24:27 WARN DAGScheduler: Broadcasting large task binary with size 1513.2 KiB\n",
      "25/07/23 22:24:27 WARN DAGScheduler: Broadcasting large task binary with size 1136.4 KiB\n",
      "25/07/23 22:24:27 WARN DAGScheduler: Broadcasting large task binary with size 1369.7 KiB\n",
      "25/07/23 22:24:28 WARN DAGScheduler: Broadcasting large task binary with size 1197.0 KiB\n",
      "25/07/23 22:24:28 WARN DAGScheduler: Broadcasting large task binary with size 1423.6 KiB\n",
      "25/07/23 22:24:28 WARN DAGScheduler: Broadcasting large task binary with size 1600.4 KiB\n",
      "25/07/23 22:24:29 WARN DAGScheduler: Broadcasting large task binary with size 1680.8 KiB\n",
      "25/07/23 22:24:29 WARN DAGScheduler: Broadcasting large task binary with size 1520.2 KiB\n",
      "25/07/23 22:24:29 WARN DAGScheduler: Broadcasting large task binary with size 1050.2 KiB\n",
      "25/07/23 22:24:29 WARN DAGScheduler: Broadcasting large task binary with size 1345.0 KiB\n",
      "25/07/23 22:24:32 WARN DAGScheduler: Broadcasting large task binary with size 1375.0 KiB\n",
      "25/07/23 22:24:32 WARN DAGScheduler: Broadcasting large task binary with size 1788.7 KiB\n",
      "25/07/23 22:24:32 WARN DAGScheduler: Broadcasting large task binary with size 2.1 MiB\n",
      "25/07/23 22:24:32 WARN DAGScheduler: Broadcasting large task binary with size 2.3 MiB\n",
      "25/07/23 22:24:33 WARN DAGScheduler: Broadcasting large task binary with size 1813.5 KiB\n",
      "25/07/23 22:24:34 WARN DAGScheduler: Broadcasting large task binary with size 1345.5 KiB\n",
      "25/07/23 22:24:34 WARN DAGScheduler: Broadcasting large task binary with size 1748.2 KiB\n",
      "25/07/23 22:24:34 WARN DAGScheduler: Broadcasting large task binary with size 2.0 MiB\n",
      "25/07/23 22:24:35 WARN DAGScheduler: Broadcasting large task binary with size 2.3 MiB\n",
      "25/07/23 22:24:35 WARN DAGScheduler: Broadcasting large task binary with size 1786.1 KiB\n",
      "25/07/23 22:24:36 WARN DAGScheduler: Broadcasting large task binary with size 1375.0 KiB\n",
      "25/07/23 22:24:36 WARN DAGScheduler: Broadcasting large task binary with size 1788.7 KiB\n",
      "25/07/23 22:24:36 WARN DAGScheduler: Broadcasting large task binary with size 2.1 MiB\n",
      "25/07/23 22:24:36 WARN DAGScheduler: Broadcasting large task binary with size 2.3 MiB\n",
      "25/07/23 22:24:37 WARN DAGScheduler: Broadcasting large task binary with size 2.5 MiB\n",
      "25/07/23 22:24:37 WARN DAGScheduler: Broadcasting large task binary with size 2.1 MiB\n",
      "25/07/23 22:24:37 WARN DAGScheduler: Broadcasting large task binary with size 1708.4 KiB\n",
      "25/07/23 22:24:37 WARN DAGScheduler: Broadcasting large task binary with size 1079.8 KiB\n",
      "25/07/23 22:24:37 WARN DAGScheduler: Broadcasting large task binary with size 1996.1 KiB\n",
      "25/07/23 22:24:38 WARN DAGScheduler: Broadcasting large task binary with size 1345.5 KiB\n",
      "25/07/23 22:24:39 WARN DAGScheduler: Broadcasting large task binary with size 1748.2 KiB\n",
      "25/07/23 22:24:39 WARN DAGScheduler: Broadcasting large task binary with size 2.0 MiB\n",
      "25/07/23 22:24:39 WARN DAGScheduler: Broadcasting large task binary with size 2.3 MiB\n",
      "25/07/23 22:24:39 WARN DAGScheduler: Broadcasting large task binary with size 2.3 MiB\n",
      "25/07/23 22:24:39 WARN DAGScheduler: Broadcasting large task binary with size 2.1 MiB\n",
      "25/07/23 22:24:40 WARN DAGScheduler: Broadcasting large task binary with size 1646.7 KiB\n",
      "25/07/23 22:24:40 WARN DAGScheduler: Broadcasting large task binary with size 1959.0 KiB\n"
     ]
    },
    {
     "name": "stdout",
     "output_type": "stream",
     "text": [
      "\n",
      "Mejores parámetros del modelo:\n",
      "Número de árboles: 150\n",
      "Profundidad máxima: 5\n",
      "Número máximo de bins: 64\n"
     ]
    }
   ],
   "source": [
    "\n",
    "# Entrenar Cross Validation\n",
    "cv_model = crossval.fit(train_val)\n",
    "\n",
    "\n",
    "best_model = cv_model.bestModel\n",
    "best_rf = best_model.stages[-1]\n",
    "#Reporte del entrenamiento\n",
    "print(\"\\nMejores parámetros del modelo:\")\n",
    "print(f\"Número de árboles: {best_rf.getNumTrees}\")\n",
    "print(f\"Profundidad máxima: {best_rf.getMaxDepth()}\")\n",
    "print(f\"Número máximo de bins: {best_rf.getMaxBins()}\")\n"
   ]
  },
  {
   "cell_type": "markdown",
   "id": "1d6359df",
   "metadata": {},
   "source": [
    "En el proceso dura un tiempo considerable ya que promedia los 150 número de arboles con una profundidad de 5.\n",
    "Una vez entrenado el modelo evaluamos su rendimiento, es importante considerar que la predicción es de una varioable binaria por lo tanto usamos esta validación específica que tiene PysPark"
   ]
  },
  {
   "cell_type": "code",
   "execution_count": 29,
   "id": "a201037c",
   "metadata": {},
   "outputs": [
    {
     "name": "stdout",
     "output_type": "stream",
     "text": [
      "\n",
      "Métricas en conjunto de validación final:\n",
      "ROC AUC: 0.8546\n",
      "PR AUC: 0.7498\n",
      "Precisión: 0.7611\n",
      "Recall: 0.7611\n",
      "F1 Score: 0.7559\n",
      "\n",
      "Importancia de características:\n",
      "Glucose: 0.3845\n",
      "BMI: 0.1881\n",
      "Age: 0.1387\n",
      "DiabetesPedigreeFunction: 0.1022\n",
      "Pregnancies: 0.0600\n",
      "Insulin: 0.0461\n",
      "BloodPressure: 0.0405\n",
      "SkinThickness: 0.0399\n"
     ]
    }
   ],
   "source": [
    "\n",
    "#Evaluar con la validación final\n",
    "test_predictions = best_model.transform(validation_test)\n",
    "\n",
    "# Métricas de evaluación \n",
    "evaluator_roc = BinaryClassificationEvaluator(\n",
    "    labelCol=\"Outcome\",\n",
    "    metricName=\"areaUnderROC\"\n",
    ")\n",
    "roc_auc = evaluator_roc.evaluate(test_predictions)\n",
    "\n",
    "evaluator_pr = BinaryClassificationEvaluator(\n",
    "    labelCol=\"Outcome\",\n",
    "    metricName=\"areaUnderPR\"\n",
    ")\n",
    "pr_auc = evaluator_pr.evaluate(test_predictions)\n",
    "\n",
    "# Evaluador multiclase para precisión\n",
    "multi_evaluator = MulticlassClassificationEvaluator(\n",
    "    labelCol=\"Outcome\",\n",
    "    predictionCol=\"prediction\"\n",
    ")\n",
    "\n",
    "accuracy = multi_evaluator.evaluate(test_predictions, {multi_evaluator.metricName: \"accuracy\"})\n",
    "precision = multi_evaluator.evaluate(test_predictions, {multi_evaluator.metricName: \"weightedPrecision\"})\n",
    "recall = multi_evaluator.evaluate(test_predictions, {multi_evaluator.metricName: \"weightedRecall\"})\n",
    "f1 = multi_evaluator.evaluate(test_predictions, {multi_evaluator.metricName: \"f1\"})\n",
    "\n",
    "\n",
    "\n",
    "\n",
    "# Reporte de métricas\n",
    "print(\"\\nMétricas en conjunto de validación final:\")\n",
    "print(f\"ROC AUC: {roc_auc:.4f}\")\n",
    "print(f\"PR AUC: {pr_auc:.4f}\")\n",
    "print(f\"Precisión: {accuracy:.4f}\")\n",
    "print(f\"Recall: {recall:.4f}\")\n",
    "print(f\"F1 Score: {f1:.4f}\")\n",
    "\n",
    "# Importancia de características\n",
    "importances = best_rf.featureImportances\n",
    "importance_dict = {feature: importance for feature, importance in zip(feature_cols, importances)}\n",
    "sorted_importances = sorted(importance_dict.items(), key=lambda x: x[1], reverse=True)\n",
    "\n",
    "print(\"\\nImportancia de características:\")\n",
    "for feature, importance in sorted_importances:\n",
    "    print(f\"{feature}: {importance:.4f}\")"
   ]
  },
  {
   "cell_type": "markdown",
   "id": "d6e8a28f",
   "metadata": {},
   "source": [
    "# #Guardado en base"
   ]
  },
  {
   "cell_type": "code",
   "execution_count": 47,
   "id": "2c5a5926",
   "metadata": {},
   "outputs": [
    {
     "name": "stdout",
     "output_type": "stream",
     "text": [
      "Predicciones de Random Forest guardadas en tabla 'modelo1'\n"
     ]
    }
   ],
   "source": [
    "# Guardar predicciones para RF\n",
    "rf_output = test_predictions.select(\n",
    "    *feature_cols,\n",
    "    col(\"Outcome\"),\n",
    "    col(\"prediction\").alias(\"prediccion\")\n",
    ")\n",
    "\n",
    "\n",
    "rf_output.write \\\n",
    "    .format(\"jdbc\") \\\n",
    "    .mode(\"overwrite\") \\\n",
    "    .option(\"url\", \"jdbc:postgresql://host.docker.internal:5433/postgres\") \\\n",
    "    .option(\"user\", \"postgres\") \\\n",
    "    .option(\"password\", \"pword\") \\\n",
    "    .option(\"dbtable\", \"modelo1\") \\\n",
    "    .save()\n",
    "\n",
    "\n",
    "print(\"Predicciones de Random Forest guardadas en tabla 'modelo1'\")"
   ]
  },
  {
   "cell_type": "code",
   "execution_count": 27,
   "id": "cd07e788",
   "metadata": {},
   "outputs": [
    {
     "name": "stdout",
     "output_type": "stream",
     "text": [
      "\n",
      "Métricas en conjunto de validación final:\n",
      "ROC AUC: 0.8546\n",
      "PR AUC: 0.7498\n",
      "Precisión: 0.7611\n",
      "Recall: 0.7611\n",
      "F1 Score: 0.7559\n",
      "\n",
      "Importancia de características:\n",
      "Glucose: 0.3845\n",
      "BMI: 0.1881\n",
      "Age: 0.1387\n",
      "DiabetesPedigreeFunction: 0.1022\n",
      "Pregnancies: 0.0600\n",
      "Insulin: 0.0461\n",
      "BloodPressure: 0.0405\n",
      "SkinThickness: 0.0399\n"
     ]
    }
   ],
   "source": [
    "Lo que nos indica los datos es por un lado el ROC AUC es una capacidad de discriminación entre diabeticos y no diábeticos bastante sólida\n",
    "El PR AUC en 0.75 es un buen desempeño en un posible desequilibio de clases-\n",
    "La precisión y el recall es que hay un equilibrio entre falsos positivios y falsos negativos de un 76%\n",
    "El F1 Score nos confirma lo anterior.\n",
    "\n",
    "Sobre la importancia de las características podemos concluir lo siguiente, la Glucosa domina el poder predictivo siendo el más fuerte\n",
    "Seguido por la edad y el BMI, que siguen aportando bastante pero en menos medida, por último la presión sanguínea y el \"Skin Thickness\" son los que tienen una contribución \n",
    "mucho menor.\n",
    "Lo cual usando la lógica de la enfermedad tiene sentido que el mayor factor sea la glucosa, el peso y edad de la persona.\n",
    "\n"
   ]
  },
  {
   "cell_type": "markdown",
   "id": "f5a617a2",
   "metadata": {},
   "source": [
    "# Propuesta 2 Regresión Logística"
   ]
  },
  {
   "cell_type": "code",
   "execution_count": 40,
   "id": "3cd4ddc2",
   "metadata": {},
   "outputs": [
    {
     "name": "stdout",
     "output_type": "stream",
     "text": [
      "Iniciando entrenamiento con Cross Validation...\n",
      "Entrenamiento completado!\n",
      "\n",
      "Mejores parámetros del modelo:\n",
      "Parámetro de regularización (regParam): 0.0100\n",
      "Mezcla L1/L2 (elasticNetParam): 1.0000\n",
      "Incluir intercepto: True\n",
      "\n",
      "Métricas en conjunto de validación final:\n",
      "ROC AUC: 0.8618\n",
      "PR AUC: 0.8045\n",
      "Precisión: 0.8319\n",
      "Recall: 0.8319\n",
      "F1 Score: 0.8282\n",
      "\n",
      "Coeficientes del modelo:\n",
      "Pregnancies: 0.2809\n",
      "Glucose: 0.9788\n",
      "BloodPressure: 0.0000\n",
      "SkinThickness: 0.0000\n",
      "Insulin: 0.0000\n",
      "BMI: 0.4766\n",
      "DiabetesPedigreeFunction: 0.2394\n",
      "Age: 0.1117\n",
      "Intercepto: -8.1054\n",
      "\n",
      "Matriz de confusión:\n",
      "+-------+----------+-----+\n",
      "|Outcome|prediction|count|\n",
      "+-------+----------+-----+\n",
      "|      1|       0.0|   12|\n",
      "|      0|       0.0|   70|\n",
      "|      1|       1.0|   24|\n",
      "|      0|       1.0|    7|\n",
      "+-------+----------+-----+\n",
      "\n"
     ]
    }
   ],
   "source": []
  },
  {
   "cell_type": "raw",
   "id": "96203dc2",
   "metadata": {},
   "source": [
    "En este momento realmente hacemos lo mismo que con Random Forest de tomar los datos para el entrenamiento del modelo \n",
    "pero decidimos también entrenar con este modelo por varios motivos.\n",
    "Primero al contrario de RandomForest es mucho más rápido que aunque con este dataset tampoco sea un tiempo irrazonable si se nota bastante la diferencia, y es más facil explicar cada variable por los \"odds ratios\" para ver que tanto impacta la diabetes y ver si es acorde con RF. Ádemas podemos evitar un poco más el overfitting "
   ]
  },
  {
   "cell_type": "code",
   "execution_count": null,
   "id": "af1210d6",
   "metadata": {},
   "outputs": [],
   "source": [
    "from pyspark.ml.classification import LogisticRegression\n",
    "\n",
    "\n",
    "db_url = \"jdbc:postgresql://host.docker.internal:5433/postgres\"\n",
    "db_properties = {\n",
    "    \"user\": \"postgres\",\n",
    "    \"password\": \"pword\",\n",
    "    \"driver\": \"org.postgresql.Driver\"\n",
    "}\n",
    "\n",
    "df = spark.read.jdbc(\n",
    "    url=db_url,\n",
    "    table=\"resultLinReg\",\n",
    "    properties=db_properties\n",
    ")\n",
    "\n",
    "feature_cols = [\"Pregnancies\", \"Glucose\", \"BloodPressure\", \"SkinThickness\",\n",
    "                \"Insulin\", \"BMI\", \"DiabetesPedigreeFunction\", \"Age\"]\n",
    "\n",
    "assembler = VectorAssembler(\n",
    "    inputCols=feature_cols,\n",
    "    outputCol=\"features\"\n",
    ")\n",
    "\n",
    "# Dividimos un 80% en datos de entrenamiento y dejamos un 20% para la validación\n",
    "train_val, test = df.randomSplit([0.8, 0.2], seed=42)\n"
   ]
  },
  {
   "cell_type": "markdown",
   "id": "b569618c",
   "metadata": {},
   "source": [
    "# #Preparación"
   ]
  },
  {
   "cell_type": "code",
   "execution_count": 41,
   "id": "93141a12",
   "metadata": {},
   "outputs": [],
   "source": [
    "\n",
    "# Regresión Logística\n",
    "lr = LogisticRegression(\n",
    "    featuresCol=\"features\",\n",
    "    labelCol=\"Outcome\",\n",
    "    family=\"binomial\",  # diabete o no por eso binaria\n",
    "    maxIter=100,        \n",
    "    elasticNetParam=0.8 # Mezcla entre L1 y L2\n",
    ")\n",
    "\n",
    "pipeline = Pipeline(stages=[assembler, lr])\n",
    "\n",
    "evaluator = BinaryClassificationEvaluator(\n",
    "    labelCol=\"Outcome\",\n",
    "    metricName=\"areaUnderROC\"\n",
    ")\n",
    "\n",
    "# K-Fold Cross Validation con k=5\n",
    "paramGrid = ParamGridBuilder() \\\n",
    "    .addGrid(lr.regParam, [0.01, 0.1, 1.0]) \\\n",
    "    .addGrid(lr.elasticNetParam, [0.0, 0.5, 1.0]) \\\n",
    "    .addGrid(lr.fitIntercept, [True, False]) \\\n",
    "    .build()\n",
    "\n",
    "crossval = CrossValidator(\n",
    "    estimator=pipeline,\n",
    "    estimatorParamMaps=paramGrid,\n",
    "    evaluator=evaluator,\n",
    "    numFolds=5, \n",
    "    seed=42\n",
    ")\n"
   ]
  },
  {
   "cell_type": "markdown",
   "id": "b4f278ad",
   "metadata": {},
   "source": [
    "# #Entrenamiento"
   ]
  },
  {
   "cell_type": "code",
   "execution_count": 42,
   "id": "244fddd7",
   "metadata": {},
   "outputs": [
    {
     "name": "stdout",
     "output_type": "stream",
     "text": [
      "Iniciando entrenamiento con Cross Validation...\n",
      "Entrenamiento completado\n",
      "\n",
      "Mejores parámetros del modelo:\n",
      "Parámetro de regularización (regParam): 0.0100\n",
      "Mezcla L1/L2 (elasticNetParam): 1.0000\n",
      "Incluir intercepto: True\n"
     ]
    }
   ],
   "source": [
    "\n",
    "# Cross Validation\n",
    "print(\"Iniciando entrenamiento con Cross Validation...\")\n",
    "cv_model = crossval.fit(train_val)\n",
    "print(\"Entrenamiento completado\")\n",
    "\n",
    "# 10. Obtener mejor modelo\n",
    "best_model = cv_model.bestModel\n",
    "best_lr = best_model.stages[-1]\n",
    "\n",
    "print(\"\\nMejores parámetros del modelo:\")\n",
    "print(f\"Parámetro de regularización (regParam): {best_lr.getRegParam():.4f}\")\n",
    "print(f\"Mezcla L1/L2 (elasticNetParam): {best_lr.getElasticNetParam():.4f}\")\n",
    "print(f\"Incluir intercepto: {best_lr.getFitIntercept()}\")\n"
   ]
  },
  {
   "cell_type": "markdown",
   "id": "f981c0bf",
   "metadata": {},
   "source": [
    "# #Métricas"
   ]
  },
  {
   "cell_type": "code",
   "execution_count": 43,
   "id": "371118b2",
   "metadata": {},
   "outputs": [
    {
     "name": "stdout",
     "output_type": "stream",
     "text": [
      "\n",
      "Métricas en conjunto de validación final:\n",
      "ROC AUC: 0.8618\n",
      "PR AUC: 0.8045\n",
      "Precisión: 0.8319\n",
      "Recall: 0.8319\n",
      "F1 Score: 0.8282\n",
      "\n",
      "Coeficientes del modelo:\n",
      "Pregnancies: 0.2809\n",
      "Glucose: 0.9788\n",
      "BloodPressure: 0.0000\n",
      "SkinThickness: 0.0000\n",
      "Insulin: 0.0000\n",
      "BMI: 0.4766\n",
      "DiabetesPedigreeFunction: 0.2394\n",
      "Age: 0.1117\n",
      "Intercepto: -8.1054\n"
     ]
    }
   ],
   "source": [
    "\n",
    "test_predictions = best_model.transform(test)\n",
    "\n",
    "# Métricas de evaluación\n",
    "evaluator_roc = BinaryClassificationEvaluator(\n",
    "    labelCol=\"Outcome\",\n",
    "    metricName=\"areaUnderROC\"\n",
    ")\n",
    "roc_auc = evaluator_roc.evaluate(test_predictions)\n",
    "\n",
    "evaluator_pr = BinaryClassificationEvaluator(\n",
    "    labelCol=\"Outcome\",\n",
    "    metricName=\"areaUnderPR\"\n",
    ")\n",
    "pr_auc = evaluator_pr.evaluate(test_predictions)\n",
    "\n",
    "# Evaluador multiclase para precisión, recall, F1\n",
    "multi_evaluator = MulticlassClassificationEvaluator(\n",
    "    labelCol=\"Outcome\",\n",
    "    predictionCol=\"prediction\"\n",
    ")\n",
    "accuracy = multi_evaluator.evaluate(test_predictions, {multi_evaluator.metricName: \"accuracy\"})\n",
    "precision = multi_evaluator.evaluate(test_predictions, {multi_evaluator.metricName: \"weightedPrecision\"})\n",
    "recall = multi_evaluator.evaluate(test_predictions, {multi_evaluator.metricName: \"weightedRecall\"})\n",
    "f1 = multi_evaluator.evaluate(test_predictions, {multi_evaluator.metricName: \"f1\"})\n",
    "\n",
    "#Reporte de métricas\n",
    "print(\"\\nMétricas en conjunto de validación final:\")\n",
    "print(f\"ROC AUC: {roc_auc:.4f}\")\n",
    "print(f\"PR AUC: {pr_auc:.4f}\")\n",
    "print(f\"Precisión: {accuracy:.4f}\")\n",
    "print(f\"Recall: {recall:.4f}\")\n",
    "print(f\"F1 Score: {f1:.4f}\")\n",
    "\n",
    "#Coeficientes del modelo\n",
    "coefficients = best_lr.coefficients.toArray()\n",
    "intercept = best_lr.intercept\n",
    "\n",
    "print(\"\\nCoeficientes del modelo:\")\n",
    "for feature, coef in zip(feature_cols, coefficients):\n",
    "    print(f\"{feature}: {coef:.4f}\")\n",
    "print(f\"Intercepto: {intercept:.4f}\")\n",
    "\n"
   ]
  },
  {
   "cell_type": "markdown",
   "id": "bb49b568",
   "metadata": {},
   "source": [
    "En comparación con RF se ve que regresión logística funciona en todas las métricas, teniendo una mayor discriminación, con así como precisión y mejor balance.\n",
    "Al igual que en el RF la glucosa, el BMI son los mejores, pero es curioso ver que en este caso posiciona los embarazos por encima de la edad.\n",
    "Los coeficientes en 0 también es algo que indica que no hay relación alguna \n"
   ]
  },
  {
   "cell_type": "markdown",
   "id": "46aa4bf1",
   "metadata": {},
   "source": [
    "# #Guardado en base"
   ]
  },
  {
   "cell_type": "code",
   "execution_count": 48,
   "id": "687c3cb7",
   "metadata": {},
   "outputs": [
    {
     "name": "stdout",
     "output_type": "stream",
     "text": [
      "Predicciones de Random Forest guardadas en tabla 'modelo2'\n"
     ]
    }
   ],
   "source": [
    "# Guardar predicciones para RF\n",
    "lf_output = test_predictions.select(\n",
    "    *feature_cols,\n",
    "    col(\"Outcome\"),\n",
    "    col(\"prediction\").alias(\"prediccion\")\n",
    ")\n",
    "\n",
    "\n",
    "rf_output.write \\\n",
    "    .format(\"jdbc\") \\\n",
    "    .mode(\"overwrite\") \\\n",
    "    .option(\"url\", \"jdbc:postgresql://host.docker.internal:5433/postgres\") \\\n",
    "    .option(\"user\", \"postgres\") \\\n",
    "    .option(\"password\", \"pword\") \\\n",
    "    .option(\"dbtable\", \"modelo2\") \\\n",
    "    .save()\n",
    "\n",
    "\n",
    "print(\"Predicciones de Random Forest guardadas en tabla 'modelo2'\")"
   ]
  },
  {
   "cell_type": "markdown",
   "id": "734d0caa",
   "metadata": {},
   "source": [
    "## Pendientes\n",
    "### Antes de escoger los modelos:\n",
    "* Hacer lo de postgres (fijándose en el ejercicio que hicimos en clase)\n",
    "    * escribir a Postgres con la conexión que tiene Docker, los datos que se van a usar para entrenar.\n",
    "    * en concreto, todo el último punto del documento antes de lo de \"Entrenamiento de Modelos\"\n",
    "\n",
    "### Entrenamiento de Modelos\n",
    "* escoger los modelos a utilizar\n",
    "* generar los splits de datos de entrenamiento y de prueba\n",
    "* entrenar y probar los modelos\n",
    "* usar k-fold cross y otras métricas\n",
    "\n",
    "\n",
    "### Evaluación de conjunto de validación\n",
    "* todos los puntos de esto\n",
    "\n",
    "### Documentación\n",
    "* Generar bien el manual de utilización del programa\n",
    "* Pasar la ejecución a usar docker-compose para que levante la app y la BD con un comando\n",
    "* Revisar las credenciales y que todo esté bien en el manual\n",
    "* compilar el `.pdf` del manual\n",
    "\n",
    "finalmente, entregar"
   ]
  },
  {
   "cell_type": "markdown",
   "id": "e1901a77",
   "metadata": {},
   "source": [
    "# #Comparación modelos"
   ]
  },
  {
   "cell_type": "code",
   "execution_count": null,
   "id": "e6520882",
   "metadata": {},
   "outputs": [],
   "source": []
  },
  {
   "cell_type": "code",
   "execution_count": null,
   "id": "7bbb0a06",
   "metadata": {},
   "outputs": [],
   "source": []
  }
 ],
 "metadata": {
  "kernelspec": {
   "display_name": "Python 3 (ipykernel)",
   "language": "python",
   "name": "python3"
  },
  "language_info": {
   "codemirror_mode": {
    "name": "ipython",
    "version": 3
   },
   "file_extension": ".py",
   "mimetype": "text/x-python",
   "name": "python",
   "nbconvert_exporter": "python",
   "pygments_lexer": "ipython3",
   "version": "3.7.10"
  }
 },
 "nbformat": 4,
 "nbformat_minor": 5
}
